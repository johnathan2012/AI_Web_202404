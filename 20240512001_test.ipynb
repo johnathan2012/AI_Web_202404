{
 "cells": [
  {
   "cell_type": "code",
   "execution_count": 3,
   "metadata": {},
   "outputs": [
    {
     "name": "stdout",
     "output_type": "stream",
     "text": [
      "Hello, Python!\n",
      "Hello, Mary!\n",
      "You are 20 years old.\n"
     ]
    }
   ],
   "source": [
    "print(\"Hello, Python!\")\n",
    "name=input(\"What is your name?\")\n",
    "print(\"Hello, \"+name+\"!\")\n",
    "age=input(\"How old are you?\")\n",
    "print(\"You are \"+age+\" years old.\")"
   ]
  }
 ],
 "metadata": {
  "kernelspec": {
   "display_name": "Python 3",
   "language": "python",
   "name": "python3"
  },
  "language_info": {
   "name": "python",
   "version": "3.10.13"
  }
 },
 "nbformat": 4,
 "nbformat_minor": 2
}
