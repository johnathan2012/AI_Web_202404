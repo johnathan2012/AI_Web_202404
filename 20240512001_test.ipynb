{
 "cells": [
  {
   "cell_type": "code",
   "execution_count": 1,
   "metadata": {},
   "outputs": [
    {
     "name": "stdout",
     "output_type": "stream",
     "text": [
      "Hello, Python!\n",
      "Hello, Johnathan!\n"
     ]
    }
   ],
   "source": [
    "print(\"Hello, Python!\")\n",
    "name=input(\"What is your name?\")\n",
    "print(\"Hello, \"+name+\"!\")"
   ]
  }
 ],
 "metadata": {
  "language_info": {
   "name": "python"
  }
 },
 "nbformat": 4,
 "nbformat_minor": 2
}
