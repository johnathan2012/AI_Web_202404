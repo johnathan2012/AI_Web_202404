{
 "cells": [
  {
   "cell_type": "code",
   "execution_count": 1,
   "metadata": {},
   "outputs": [
    {
     "ename": "NameError",
     "evalue": "name 'records' is not defined",
     "output_type": "error",
     "traceback": [
      "\u001b[0;31m---------------------------------------------------------------------------\u001b[0m",
      "\u001b[0;31mNameError\u001b[0m                                 Traceback (most recent call last)",
      "Cell \u001b[0;32mIn[1], line 1\u001b[0m\n\u001b[0;32m----> 1\u001b[0m \u001b[43mrecords\u001b[49m\n\u001b[1;32m      2\u001b[0m \u001b[38;5;124;03m'''\u001b[39;00m\n\u001b[1;32m      3\u001b[0m \u001b[38;5;124;03mName_Ins : \"鴻輝食品廠\"\u001b[39;00m\n\u001b[1;32m      4\u001b[0m \u001b[38;5;124;03mNo : \"99611344\"\u001b[39;00m\n\u001b[0;32m   (...)\u001b[0m\n\u001b[1;32m      8\u001b[0m \u001b[38;5;124;03mwgs84aY : \"25.0327031220478\"\u001b[39;00m\n\u001b[1;32m      9\u001b[0m \u001b[38;5;124;03m'''\u001b[39;00m\n\u001b[1;32m     12\u001b[0m \u001b[38;5;28;01mfrom\u001b[39;00m \u001b[38;5;21;01mpydantic\u001b[39;00m \u001b[38;5;28;01mimport\u001b[39;00m BaseModel,Field\n",
      "\u001b[0;31mNameError\u001b[0m: name 'records' is not defined"
     ]
    }
   ],
   "source": [
    "records\n",
    "'''\n",
    "Name_Ins : \"鴻輝食品廠\"\n",
    "No : \"99611344\"\n",
    "Address : \"新北市新莊區新莊路四九三巷四弄一一號\"\n",
    "tax_ID_number : \"35567635\"\n",
    "wgs84aX : \"121.448618091317\"\n",
    "wgs84aY : \"25.0327031220478\"\n",
    "'''\n",
    "\n",
    "\n",
    "from pydantic import BaseModel,Field\n",
    "\n",
    "class Factory(BaseModel):\n",
    "    factory_name:str = Field(alias='Name_Ins')\n",
    "    reg_id:str = Field(alias='No')\n",
    "    Address:str\n",
    "    tax_id:str = Field(alias='tax_ID_number')\n",
    "    latitute:str = Field(alias='wgs84aX')\n",
    "    longitude:str = Field(alias='wgs84aY')\n",
    "\n",
    "\n",
    "class BAL(BaseModel):\n",
    "    records:list[Factory]\n",
    "\n",
    "import json\n",
    "with open('新北市食品工廠清冊.json',encoding='utf-8') as file:\n",
    "    content:str = file.read()\n",
    "    bal:BAL = BAL.model_validate_json(content)\n",
    "\n",
    "sites:list[Site] = bal.records\n",
    "\n",
    "for site in sites:\n",
    "    print(site)"
   ]
  }
 ],
 "metadata": {
  "kernelspec": {
   "display_name": "Python 3",
   "language": "python",
   "name": "python3"
  },
  "language_info": {
   "codemirror_mode": {
    "name": "ipython",
    "version": 3
   },
   "file_extension": ".py",
   "mimetype": "text/x-python",
   "name": "python",
   "nbconvert_exporter": "python",
   "pygments_lexer": "ipython3",
   "version": "3.10.13"
  }
 },
 "nbformat": 4,
 "nbformat_minor": 2
}
