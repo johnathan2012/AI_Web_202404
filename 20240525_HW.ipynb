{
 "cells": [
  {
   "cell_type": "code",
   "execution_count": 4,
   "metadata": {},
   "outputs": [
    {
     "ename": "ValidationError",
     "evalue": "1 validation error for BAL\nrecords\n  Field required [type=missing, input_value={'success': True, 'result...: '25.0044487093875'}]}}, input_type=dict]\n    For further information visit https://errors.pydantic.dev/2.7/v/missing",
     "output_type": "error",
     "traceback": [
      "\u001b[0;31m---------------------------------------------------------------------------\u001b[0m",
      "\u001b[0;31mValidationError\u001b[0m                           Traceback (most recent call last)",
      "Cell \u001b[0;32mIn[4], line 27\u001b[0m\n\u001b[1;32m     25\u001b[0m \u001b[38;5;28;01mwith\u001b[39;00m \u001b[38;5;28mopen\u001b[39m(\u001b[38;5;124m'\u001b[39m\u001b[38;5;124m新北市食品工廠清冊.json\u001b[39m\u001b[38;5;124m'\u001b[39m,encoding\u001b[38;5;241m=\u001b[39m\u001b[38;5;124m'\u001b[39m\u001b[38;5;124mutf-8\u001b[39m\u001b[38;5;124m'\u001b[39m) \u001b[38;5;28;01mas\u001b[39;00m file:\n\u001b[1;32m     26\u001b[0m     content:\u001b[38;5;28mstr\u001b[39m \u001b[38;5;241m=\u001b[39m file\u001b[38;5;241m.\u001b[39mread()\n\u001b[0;32m---> 27\u001b[0m     bal:BAL \u001b[38;5;241m=\u001b[39m \u001b[43mBAL\u001b[49m\u001b[38;5;241;43m.\u001b[39;49m\u001b[43mmodel_validate_json\u001b[49m\u001b[43m(\u001b[49m\u001b[43mcontent\u001b[49m\u001b[43m)\u001b[49m\n\u001b[1;32m     29\u001b[0m sites:\u001b[38;5;28mlist\u001b[39m[Site] \u001b[38;5;241m=\u001b[39m bal\u001b[38;5;241m.\u001b[39mrecords\n\u001b[1;32m     31\u001b[0m \u001b[38;5;28;01mfor\u001b[39;00m site \u001b[38;5;129;01min\u001b[39;00m sites:\n",
      "File \u001b[0;32m~/.python/current/lib/python3.10/site-packages/pydantic/main.py:580\u001b[0m, in \u001b[0;36mBaseModel.model_validate_json\u001b[0;34m(cls, json_data, strict, context)\u001b[0m\n\u001b[1;32m    578\u001b[0m \u001b[38;5;66;03m# `__tracebackhide__` tells pytest and some other tools to omit this function from tracebacks\u001b[39;00m\n\u001b[1;32m    579\u001b[0m __tracebackhide__ \u001b[38;5;241m=\u001b[39m \u001b[38;5;28;01mTrue\u001b[39;00m\n\u001b[0;32m--> 580\u001b[0m \u001b[38;5;28;01mreturn\u001b[39;00m \u001b[38;5;28;43mcls\u001b[39;49m\u001b[38;5;241;43m.\u001b[39;49m\u001b[43m__pydantic_validator__\u001b[49m\u001b[38;5;241;43m.\u001b[39;49m\u001b[43mvalidate_json\u001b[49m\u001b[43m(\u001b[49m\u001b[43mjson_data\u001b[49m\u001b[43m,\u001b[49m\u001b[43m \u001b[49m\u001b[43mstrict\u001b[49m\u001b[38;5;241;43m=\u001b[39;49m\u001b[43mstrict\u001b[49m\u001b[43m,\u001b[49m\u001b[43m \u001b[49m\u001b[43mcontext\u001b[49m\u001b[38;5;241;43m=\u001b[39;49m\u001b[43mcontext\u001b[49m\u001b[43m)\u001b[49m\n",
      "\u001b[0;31mValidationError\u001b[0m: 1 validation error for BAL\nrecords\n  Field required [type=missing, input_value={'success': True, 'result...: '25.0044487093875'}]}}, input_type=dict]\n    For further information visit https://errors.pydantic.dev/2.7/v/missing"
     ]
    }
   ],
   "source": [
    "#records\n",
    "'''\n",
    "Name_Ins : \"鴻輝食品廠\"\n",
    "No : \"99611344\"\n",
    "Address : \"新北市新莊區新莊路四九三巷四弄一一號\"\n",
    "tax_ID_number : \"35567635\"\n",
    "wgs84aX : \"121.448618091317\"\n",
    "wgs84aY : \"25.0327031220478\"\n",
    "'''\n",
    "from pydantic import BaseModel, Field\n",
    "\n",
    "class Factory(BaseModel):\n",
    "    factory_name:str = Field(alias='Name_Ins')\n",
    "    reg_id:str = Field(alias='No')\n",
    "    addr:str = Field(alias='Address')\n",
    "    tax_id:str = Field(alias='tax_ID_number')\n",
    "    latitute:str = Field(alias='wgs84aX')\n",
    "    longitude:str = Field(alias='wgs84aY')\n",
    "\n",
    "\n",
    "class BAL(BaseModel):\n",
    "    records:list[Factory]\n",
    "\n",
    "import json\n",
    "with open('新北市食品工廠清冊.json',encoding='utf-8') as file:\n",
    "    content:str = file.read()\n",
    "    bal:BAL = BAL.model_validate_json(content)\n",
    "\n",
    "sites:list[Site] = bal.records\n",
    "\n",
    "for site in sites:\n",
    "    print(site)"
   ]
  }
 ],
 "metadata": {
  "kernelspec": {
   "display_name": "Python 3",
   "language": "python",
   "name": "python3"
  },
  "language_info": {
   "codemirror_mode": {
    "name": "ipython",
    "version": 3
   },
   "file_extension": ".py",
   "mimetype": "text/x-python",
   "name": "python",
   "nbconvert_exporter": "python",
   "pygments_lexer": "ipython3",
   "version": "3.10.13"
  }
 },
 "nbformat": 4,
 "nbformat_minor": 2
}
