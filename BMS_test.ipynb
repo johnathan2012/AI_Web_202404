{
 "cells": [
  {
   "cell_type": "code",
   "execution_count": 2,
   "metadata": {},
   "outputs": [
    {
     "name": "stdout",
     "output_type": "stream",
     "text": [
      "=====================================\n",
      "Johnathan Chen 先生/女士,您好!\n",
      "您的身高: 158 cm\n",
      "您的體重: 69 kg\n",
      "您的BMI值為: 27.64 (kg/m2)\n",
      "您的身體質量:輕度肥胖\n"
     ]
    }
   ],
   "source": [
    "name = str(input(\"請輸入姓名:\"))\n",
    "height = int(input(\"請輸入身高(cm):\"))\n",
    "weight = int(input(\"請輸入體重(kg):\"))\n",
    "\n",
    "#BMI值計算公式: BMI = 體重(公斤) / 身高2(公尺2)\n",
    "BMI = weight / (height/100)**2\n",
    "\n",
    "print(\"=====================================\")\n",
    "print(name+\" 先生/女士,您好!\")\n",
    "print(\"您的身高:\",height,\"cm\")\n",
    "print(\"您的體重:\",weight,\"kg\")\n",
    "print(\"您的BMI值為:\",round(BMI,2),\"(kg/m2)\")\n",
    "\n",
    "if BMI < 18.5:\n",
    "    print(\"您的身體質量:過輕\") #體重過輕 BMI<18.5\n",
    "elif 18.5 <= BMI < 24:\n",
    "    print(\"您的身體質量:正常\") #正常範圍 18.5≦BMI＜24\n",
    "elif 24 <= BMI < 27:\n",
    "    print(\"您的身體質量:過重\") #過重 24≦BMI＜27\n",
    "elif 27 <= BMI < 30:\n",
    "    print(\"您的身體質量:輕度肥胖\") #輕度肥胖 27≦BMI＜30\n",
    "elif 30 <= BMI < 35:\n",
    "    print(\"您的身體質量:中度肥胖\") #中度肥胖 30≦BMI＜35\n",
    "else:\n",
    "    print(\"您的身體質量:重度肥胖\") #重度肥胖 BMI≧35\n",
    "    print(\"=====================================\")"
   ]
  }
 ],
 "metadata": {
  "kernelspec": {
   "display_name": "Python 3",
   "language": "python",
   "name": "python3"
  },
  "language_info": {
   "codemirror_mode": {
    "name": "ipython",
    "version": 3
   },
   "file_extension": ".py",
   "mimetype": "text/x-python",
   "name": "python",
   "nbconvert_exporter": "python",
   "pygments_lexer": "ipython3",
   "version": "3.10.13"
  }
 },
 "nbformat": 4,
 "nbformat_minor": 2
}
